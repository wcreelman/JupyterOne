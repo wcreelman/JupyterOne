{
 "cells": [
  {
   "cell_type": "markdown",
   "metadata": {},
   "source": [
    "### Simple parabola animation\n"
   ]
  },
  {
   "cell_type": "code",
   "execution_count": 56,
   "metadata": {},
   "outputs": [],
   "source": [
    "import math\n",
    "import matplotlib.pyplot as plt\n",
    "#parameters\n",
    "h = 0.0       #starting height\n",
    "g = 9.81     #acceleration due to gravity\n",
    "angle = 25.0  #degrees upward\n",
    "v = 20.0      #m/s\n",
    "t = 0.0       #time at start of launch\n",
    "deltaT = 0.1  #time intervals to plot\n",
    "theta = angle * math.pi / 180.0"
   ]
  },
  {
   "cell_type": "code",
   "execution_count": 59,
   "metadata": {},
   "outputs": [
    {
     "name": "stdout",
     "output_type": "stream",
     "text": [
      "0.42261826174069944\n",
      "0.4363323129985824\n"
     ]
    },
    {
     "data": {
      "text/plain": [
       "<function matplotlib.pyplot.show(*args, **kw)>"
      ]
     },
     "execution_count": 59,
     "metadata": {},
     "output_type": "execute_result"
    },
    {
     "data": {
      "image/png": "[encoded data removed]",
      "text/plain": [
       "<Figure size 432x288 with 1 Axes>"
      ]
     },
     "metadata": {
      "needs_background": "light"
     },
     "output_type": "display_data"
    }
   ],
   "source": [
    "#create points\n",
    "print(math.sin(theta))\n",
    "x = [0]\n",
    "y = [h]\n",
    "t = deltaT\n",
    "print(theta)\n",
    "while h >= 0:\n",
    "    #print(t)\n",
    "    tx = v * math.cos(theta) * t\n",
    "    vy = v * math.sin(theta) - g * t;\n",
    "    h += (vy * deltaT);\n",
    "    x.append(tx)\n",
    "    y.append(h)\n",
    "    t += deltaT    \n",
    "    #print(x)\n",
    "    #print(y)\n",
    "plt.xlabel('X')\n",
    "plt.ylabel('Height')\n",
    "plt.title(\"Projectile Motion\")\n",
    "\n",
    "plt.scatter(x, y)\n",
    "plt.show"
   ]
  },
  {
   "cell_type": "code",
   "execution_count": 58,
   "metadata": {},
   "outputs": [
    {
     "name": "stdout",
     "output_type": "stream",
     "text": [
      "hello world\n"
     ]
    }
   ],
   "source": [
    "print(\"hello world\")"
   ]
  },
  {
   "cell_type": "code",
   "execution_count": null,
   "metadata": {},
   "outputs": [],
   "source": []
  },
  {
   "cell_type": "code",
   "execution_count": null,
   "metadata": {},
   "outputs": [],
   "source": []
  }
 ],
 "metadata": {
  "kernelspec": {
   "display_name": "Python 3",
   "language": "python",
   "name": "python3"
  },
  "language_info": {
   "codemirror_mode": {
    "name": "ipython",
    "version": 3
   },
   "file_extension": ".py",
   "mimetype": "text/x-python",
   "name": "python",
   "nbconvert_exporter": "python",
   "pygments_lexer": "ipython3",
   "version": "3.7.4"
  }
 },
 "nbformat": 4,
 "nbformat_minor": 2
}
